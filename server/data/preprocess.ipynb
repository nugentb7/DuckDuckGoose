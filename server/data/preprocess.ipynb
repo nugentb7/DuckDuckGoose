{
 "cells": [
  {
   "cell_type": "code",
   "execution_count": 25,
   "metadata": {
    "collapsed": true
   },
   "outputs": [],
   "source": [
    "import pandas as pd"
   ]
  },
  {
   "cell_type": "code",
   "execution_count": 57,
   "outputs": [],
   "source": [
    "water_data = pd.read_csv('server/data/waterway-readings.csv', encoding='iso-8859-1')\n",
    "units_data = pd.read_csv('server/data/units-of-measure.csv', encoding='iso-8859-1')"
   ],
   "metadata": {
    "collapsed": false,
    "pycharm": {
     "name": "#%%\n"
    }
   }
  },
  {
   "cell_type": "code",
   "execution_count": 58,
   "outputs": [],
   "source": [
    "def strip_column(series: pd.Series) -> pd.Series:\n",
    "    return series.map(lambda item: item.strip())"
   ],
   "metadata": {
    "collapsed": false,
    "pycharm": {
     "name": "#%%\n"
    }
   }
  },
  {
   "cell_type": "code",
   "execution_count": 59,
   "outputs": [],
   "source": [
    "units_data['measure'] = strip_column(units_data['measure'])\n",
    "units_data['unit'] = strip_column(units_data['unit'])\n",
    "units_data = units_data.set_index('measure')"
   ],
   "metadata": {
    "collapsed": false,
    "pycharm": {
     "name": "#%%\n"
    }
   }
  },
  {
   "cell_type": "code",
   "execution_count": 60,
   "outputs": [],
   "source": [
    "water_data['measure'] = strip_column(water_data['measure'])\n",
    "water_data['date'] = strip_column(water_data['sample date'])\n",
    "water_data['location'] = strip_column(water_data['location'])\n",
    "water_data = water_data.drop(columns='sample date')\n",
    "water_data = water_data.join(units_data, 'measure')"
   ],
   "metadata": {
    "collapsed": false,
    "pycharm": {
     "name": "#%%\n"
    }
   }
  },
  {
   "cell_type": "code",
   "execution_count": 61,
   "outputs": [
    {
     "data": {
      "text/plain": "             id  value location            measure       date unit\n0          2221    2.0  Boonsri  Water temperature  11-Jan-98    C\n224        2261    5.0  Boonsri  Water temperature  15-Feb-98    C\n448        2301    2.0  Boonsri  Water temperature  12-Mar-98    C\n672        2341    8.0  Boonsri  Water temperature  11-Apr-98    C\n706        2704    7.0  Boonsri  Water temperature  11-Apr-98    C\n...         ...    ...      ...                ...        ...  ...\n136043  3278935   10.0  Boonsri  Water temperature  17-Nov-16    C\n136418  3278993    7.0  Boonsri  Water temperature   3-Dec-16    C\n136605  3279011    7.0  Boonsri  Water temperature  10-Dec-16    C\n136634  3279916    7.0  Boonsri  Water temperature  10-Dec-16    C\n136663  3280821    7.0  Boonsri  Water temperature  10-Dec-16    C\n\n[984 rows x 6 columns]",
      "text/html": "<div>\n<style scoped>\n    .dataframe tbody tr th:only-of-type {\n        vertical-align: middle;\n    }\n\n    .dataframe tbody tr th {\n        vertical-align: top;\n    }\n\n    .dataframe thead th {\n        text-align: right;\n    }\n</style>\n<table border=\"1\" class=\"dataframe\">\n  <thead>\n    <tr style=\"text-align: right;\">\n      <th></th>\n      <th>id</th>\n      <th>value</th>\n      <th>location</th>\n      <th>measure</th>\n      <th>date</th>\n      <th>unit</th>\n    </tr>\n  </thead>\n  <tbody>\n    <tr>\n      <th>0</th>\n      <td>2221</td>\n      <td>2.0</td>\n      <td>Boonsri</td>\n      <td>Water temperature</td>\n      <td>11-Jan-98</td>\n      <td>C</td>\n    </tr>\n    <tr>\n      <th>224</th>\n      <td>2261</td>\n      <td>5.0</td>\n      <td>Boonsri</td>\n      <td>Water temperature</td>\n      <td>15-Feb-98</td>\n      <td>C</td>\n    </tr>\n    <tr>\n      <th>448</th>\n      <td>2301</td>\n      <td>2.0</td>\n      <td>Boonsri</td>\n      <td>Water temperature</td>\n      <td>12-Mar-98</td>\n      <td>C</td>\n    </tr>\n    <tr>\n      <th>672</th>\n      <td>2341</td>\n      <td>8.0</td>\n      <td>Boonsri</td>\n      <td>Water temperature</td>\n      <td>11-Apr-98</td>\n      <td>C</td>\n    </tr>\n    <tr>\n      <th>706</th>\n      <td>2704</td>\n      <td>7.0</td>\n      <td>Boonsri</td>\n      <td>Water temperature</td>\n      <td>11-Apr-98</td>\n      <td>C</td>\n    </tr>\n    <tr>\n      <th>...</th>\n      <td>...</td>\n      <td>...</td>\n      <td>...</td>\n      <td>...</td>\n      <td>...</td>\n      <td>...</td>\n    </tr>\n    <tr>\n      <th>136043</th>\n      <td>3278935</td>\n      <td>10.0</td>\n      <td>Boonsri</td>\n      <td>Water temperature</td>\n      <td>17-Nov-16</td>\n      <td>C</td>\n    </tr>\n    <tr>\n      <th>136418</th>\n      <td>3278993</td>\n      <td>7.0</td>\n      <td>Boonsri</td>\n      <td>Water temperature</td>\n      <td>3-Dec-16</td>\n      <td>C</td>\n    </tr>\n    <tr>\n      <th>136605</th>\n      <td>3279011</td>\n      <td>7.0</td>\n      <td>Boonsri</td>\n      <td>Water temperature</td>\n      <td>10-Dec-16</td>\n      <td>C</td>\n    </tr>\n    <tr>\n      <th>136634</th>\n      <td>3279916</td>\n      <td>7.0</td>\n      <td>Boonsri</td>\n      <td>Water temperature</td>\n      <td>10-Dec-16</td>\n      <td>C</td>\n    </tr>\n    <tr>\n      <th>136663</th>\n      <td>3280821</td>\n      <td>7.0</td>\n      <td>Boonsri</td>\n      <td>Water temperature</td>\n      <td>10-Dec-16</td>\n      <td>C</td>\n    </tr>\n  </tbody>\n</table>\n<p>984 rows × 6 columns</p>\n</div>"
     },
     "execution_count": 61,
     "metadata": {},
     "output_type": "execute_result"
    }
   ],
   "source": [
    "filtered = water_data[water_data['location'] == 'Boonsri']\n",
    "filtered = filtered[filtered['unit'] == 'C']\n",
    "filtered"
   ],
   "metadata": {
    "collapsed": false,
    "pycharm": {
     "name": "#%%\n"
    }
   }
  },
  {
   "cell_type": "code",
   "execution_count": 62,
   "outputs": [],
   "source": [
    "filtered.to_json('server/data/waterway-readings.json', orient='records')"
   ],
   "metadata": {
    "collapsed": false,
    "pycharm": {
     "name": "#%%\n"
    }
   }
  },
  {
   "cell_type": "code",
   "execution_count": 18,
   "outputs": [],
   "source": [
    "import json\n",
    "\n",
    "data = json.load(open('server/data/waterway-readings.json', encoding='iso-8859-1'))"
   ],
   "metadata": {
    "collapsed": false,
    "pycharm": {
     "name": "#%%\n"
    }
   }
  },
  {
   "cell_type": "code",
   "execution_count": 20,
   "outputs": [
    {
     "data": {
      "text/plain": "dict_keys(['value', 'location', 'sample date', 'measure', 'unit'])"
     },
     "execution_count": 20,
     "metadata": {},
     "output_type": "execute_result"
    }
   ],
   "source": [
    "data.keys()"
   ],
   "metadata": {
    "collapsed": false,
    "pycharm": {
     "name": "#%%\n"
    }
   }
  },
  {
   "cell_type": "code",
   "execution_count": 24,
   "outputs": [
    {
     "data": {
      "text/plain": "array(['Boonsri', 'Kannika', 'Chai', 'Kohsoom', 'Somchair', 'Sakda',\n       'Busarakhan', 'Tansanee', 'Achara', 'Decha'], dtype=object)"
     },
     "execution_count": 24,
     "metadata": {},
     "output_type": "execute_result"
    }
   ],
   "source": [
    "water_data['location'].unique()"
   ],
   "metadata": {
    "collapsed": false,
    "pycharm": {
     "name": "#%%\n"
    }
   }
  }
 ],
 "metadata": {
  "kernelspec": {
   "display_name": "Python 3",
   "language": "python",
   "name": "python3"
  },
  "language_info": {
   "codemirror_mode": {
    "name": "ipython",
    "version": 2
   },
   "file_extension": ".py",
   "mimetype": "text/x-python",
   "name": "python",
   "nbconvert_exporter": "python",
   "pygments_lexer": "ipython2",
   "version": "2.7.6"
  }
 },
 "nbformat": 4,
 "nbformat_minor": 0
}